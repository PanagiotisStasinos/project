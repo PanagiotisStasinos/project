{
  "nbformat": 4,
  "nbformat_minor": 0,
  "metadata": {
    "colab": {
      "name": "Untitled0.ipynb",
      "provenance": [],
      "collapsed_sections": [],
      "authorship_tag": "ABX9TyMzq2EU6db22le14YTa+HVF",
      "include_colab_link": true
    },
    "kernelspec": {
      "name": "python3",
      "display_name": "Python 3"
    }
  },
  "cells": [
    {
      "cell_type": "markdown",
      "metadata": {
        "id": "view-in-github",
        "colab_type": "text"
      },
      "source": [
        "<a href=\"https://colab.research.google.com/github/PanagiotisStasinos/Project/blob/master/Untitled0.ipynb\" target=\"_parent\"><img src=\"https://colab.research.google.com/assets/colab-badge.svg\" alt=\"Open In Colab\"/></a>"
      ]
    },
    {
      "cell_type": "code",
      "metadata": {
        "id": "5V3n1t5kb0Ww",
        "colab_type": "code",
        "colab": {}
      },
      "source": [
        "pip install geocoder\n"
      ],
      "execution_count": 0,
      "outputs": []
    },
    {
      "cell_type": "code",
      "metadata": {
        "id": "pVwYzaZnb9GG",
        "colab_type": "code",
        "colab": {}
      },
      "source": [
        "import geocoder\n",
        "#g = geocoder.geonames('New York')\n",
        "g = geocoder.google('Mountain View, CA')\n",
        "print(g.city)\n",
        "#g.address"
      ],
      "execution_count": 0,
      "outputs": []
    },
    {
      "cell_type": "code",
      "metadata": {
        "id": "oCK49FcugrzH",
        "colab_type": "code",
        "colab": {}
      },
      "source": [
        "pip install geopandas"
      ],
      "execution_count": 0,
      "outputs": []
    },
    {
      "cell_type": "code",
      "metadata": {
        "id": "LTzC5v79hfNa",
        "colab_type": "code",
        "colab": {}
      },
      "source": [
        "pip install geopy"
      ],
      "execution_count": 0,
      "outputs": []
    },
    {
      "cell_type": "code",
      "metadata": {
        "id": "a5IKEgPBhooA",
        "colab_type": "code",
        "colab": {}
      },
      "source": [
        "locator = Nominatim(user_agent=”myGeocoder”)\n",
        "location = locator.geocode(“Champ de Mars, Paris, France”)\n",
        "print(“Latitude = {}, Longitude = {}”.format(location.latitude, location.longitude))"
      ],
      "execution_count": 0,
      "outputs": []
    },
    {
      "cell_type": "markdown",
      "metadata": {
        "id": "0ZUzron7Wihh",
        "colab_type": "text"
      },
      "source": [
        "- mount GoogleDrive\n",
        "- check the current dir"
      ]
    },
    {
      "cell_type": "code",
      "metadata": {
        "id": "GUttIHpuu3HB",
        "colab_type": "code",
        "outputId": "ad67f368-1f23-4dc9-eccc-89ceeaec8b18",
        "colab": {
          "base_uri": "https://localhost:8080/",
          "height": 91
        }
      },
      "source": [
        "from google.colab import drive\n",
        "drive.mount('/content/drive')\n",
        "\n",
        "import os \n",
        "cwd = os.getcwd()\n",
        "print(cwd)"
      ],
      "execution_count": 0,
      "outputs": [
        {
          "output_type": "stream",
          "text": [
            "Drive already mounted at /content/drive; to attempt to forcibly remount, call drive.mount(\"/content/drive\", force_remount=True).\n",
            "/content\n",
            "11986864\n",
            "4764347\n"
          ],
          "name": "stdout"
        }
      ]
    },
    {
      "cell_type": "markdown",
      "metadata": {
        "id": "q_xdzDE2W9fA",
        "colab_type": "text"
      },
      "source": [
        "- read allCountries.txt\n",
        "- get only populated locations\n",
        "- write them in allPopulated.txt\n",
        "  [ populated areas are those with feature code :\n",
        "      PPL : populated place\t(a city, town, village, or other agglomeration of buildings where people live and work)\n",
        "      PPLA : seat of a first-order administrative division         (seat of a first-order administrative division (PPLC takes precedence over PPLA))\n",
        "      PPLA2 :\n",
        "      PPLA3 :\n",
        "      PPLA4 :\n",
        "      PPLC :\n",
        "      PPLCH :\n",
        "      PPLF :\n",
        "      PPLG :\n",
        "      PPLH :\n",
        "      PPLL :\n",
        "      PPLQ :\n",
        "      PPLR :\n",
        "      PPLS :\n",
        "      PPLW :\n",
        "      PPLX :\n",
        "      STLMT :"
      ]
    },
    {
      "cell_type": "code",
      "metadata": {
        "id": "jUbxQzHZWdhY",
        "colab_type": "code",
        "outputId": "aa0fc8e1-4cd0-4178-f6ed-bec57428fcba",
        "colab": {
          "base_uri": "https://localhost:8080/",
          "height": 54
        }
      },
      "source": [
        "inputDir=\"/content/drive/My Drive/Colab Notebooks/\"\n",
        "dataFileName=\"allCountries.txt\"\n",
        "dataFile=open(inputDir+dataFileName,\"r\")\n",
        "\n",
        "f = open(\"/content/drive/My Drive/Colab Notebooks/allPopulated.txt\", \"a\")\n",
        "i=0\n",
        "j=0\n",
        "for aLine in dataFile:\n",
        "  a=aLine.split('\\t')\n",
        "  #print(a[7])\n",
        "  if a[7]==\"PPL\":\n",
        "    j=j+1\n",
        "    f.write(aLine)\n",
        "   #print(\"PPL\")\n",
        "  elif a[7]==\"PPLA\":\n",
        "    j=j+1\n",
        "    f.write(aLine)\n",
        "    #print(\"PPLA\")\n",
        "  elif a[7]==\"PPLA2\":\n",
        "    j=j+1\n",
        "    f.write(aLine)\n",
        "    #print(\"PPLA2\")\n",
        "  elif a[7]==\"PPLA3\":\n",
        "    j=j+1\n",
        "    f.write(aLine)\n",
        "    #print(\"PPLA3\")\n",
        "  elif a[7]==\"PPLA4\":\n",
        "    j=j+1\n",
        "    f.write(aLine)\n",
        "    #print(\"PPLA4\")\n",
        "  elif a[7]==\"PPLC\":\n",
        "    j=j+1\n",
        "    f.write(aLine)\n",
        "    #print(\"PPLC\")\n",
        "  elif a[7]==\"PPLCH\":\n",
        "    j=j+1\n",
        "    f.write(aLine)\n",
        "    #print(\"PPLCH\")\n",
        "  elif a[7]==\"PPLF\":\n",
        "    j=j+1\n",
        "    f.write(aLine)\n",
        "    #print(\"PPLF\")\n",
        "  elif a[7]==\"PPLG\":\n",
        "    j=j+1\n",
        "    f.write(aLine)\n",
        "    #print(\"PPLG\")\n",
        "  elif a[7]==\"PPLH\":\n",
        "    j=j+1\n",
        "    f.write(aLine)\n",
        "    #print(\"PPLH\")\n",
        "  elif a[7]==\"PPLL\":\n",
        "    j=j+1\n",
        "    f.write(aLine)\n",
        "    #print(\"PPLL\")\n",
        "  elif a[7]==\"PPLQ\":\n",
        "    j=j+1\n",
        "    f.write(aLine)\n",
        "    #print(\"PPLQ\")\n",
        "  elif a[7]==\"PPLR\":\n",
        "    j=j+1\n",
        "    f.write(aLine)\n",
        "    #print(\"PPLR\")\n",
        "  elif a[7]==\"PPLS\":\n",
        "    j=j+1\n",
        "    f.write(aLine)\n",
        "    #print(\"PPLS\")\n",
        "  elif a[7]==\"PPLW\":\n",
        "    j=j+1\n",
        "    f.write(aLine)\n",
        "    #print(\"PPLW\")\n",
        "  elif a[7]==\"PPLX\":\n",
        "    j=j+1\n",
        "    f.write(aLine)\n",
        "    #print(\"PPLX\")\n",
        "  elif a[7]==\"PPLMT\":\n",
        "    j=j+1\n",
        "    f.write(aLine)\n",
        "    #print(\"PPLMT\")\n",
        "  #if i == 10000000:\n",
        "  #  break\n",
        "  i=i+1\n",
        "  #print (aLine)\n",
        "\n",
        "f.close()\n",
        "print(i)\n",
        "print(j)"
      ],
      "execution_count": 0,
      "outputs": [
        {
          "output_type": "stream",
          "text": [
            "11986864\n",
            "4764347\n"
          ],
          "name": "stdout"
        }
      ]
    },
    {
      "cell_type": "code",
      "metadata": {
        "id": "1yZzc8iZcZae",
        "colab_type": "code",
        "outputId": "9d59daff-51d2-44e7-b5a2-e8515c95c61e",
        "colab": {
          "base_uri": "https://localhost:8080/",
          "height": 36
        }
      },
      "source": [
        "f = open(\"/content/drive/My Drive/Colab Notebooks/allPopulated.txt\", \"r\")\n",
        "i=0\n",
        "for aLine in f:\n",
        "  i=i+1\n",
        "print(i)"
      ],
      "execution_count": 0,
      "outputs": [
        {
          "output_type": "stream",
          "text": [
            "4764347\n"
          ],
          "name": "stdout"
        }
      ]
    }
  ]
}